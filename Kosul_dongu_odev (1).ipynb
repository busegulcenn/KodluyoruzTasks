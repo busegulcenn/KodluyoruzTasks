{
 "cells": [
  {
   "cell_type": "markdown",
   "id": "409f0f4a",
   "metadata": {},
   "source": [
    "**Ödev-1:** Kullanıcıdan maaş bilgisini istenir ve bu bilgiye göre maaşından ne kadar vergi kesileceğini hesaplanır. Kullanıcının geliri;\n",
    "\n",
    "1. 10000 ve altındaysa maaşından %5 kesinti olur.\n",
    "2. 25000 ve altındaysa maaşından %10 kesinti olur.\n",
    "3. 45000 ve altındaysa maaşından %25 kesinti olur.\n",
    "4. Diğer koşullarda %30 kesinti olur.\n",
    "\n",
    "Bu durumlara göre kullanıcının yeni maaşı yazdırılır."
   ]
  },
  {
   "cell_type": "code",
   "execution_count": 1,
   "id": "5246e510",
   "metadata": {},
   "outputs": [
    {
     "name": "stdin",
     "output_type": "stream",
     "text": [
      "Maaşınızı giriniz:  21000\n"
     ]
    }
   ],
   "source": [
    "maas = input(\"Maaşınızı giriniz: \")"
   ]
  },
  {
   "cell_type": "code",
   "execution_count": 3,
   "id": "626f2fb4-a93e-4523-bff1-95d2fe8ee7c5",
   "metadata": {},
   "outputs": [],
   "source": [
    "maas = int(maas)"
   ]
  },
  {
   "cell_type": "code",
   "execution_count": 9,
   "id": "1cbd7fed-8c05-4271-bb84-382835a2f303",
   "metadata": {},
   "outputs": [
    {
     "name": "stdout",
     "output_type": "stream",
     "text": [
      "Kesinti miktarı: 2100.0\n",
      "Yeni maaşınız: 18900.0\n"
     ]
    }
   ],
   "source": [
    "if maas <= 10000:\n",
    "    kesintili_maas = maas - maas*0.05 \n",
    "elif maas <= 25000:\n",
    "    kesintili_maas = maas - maas*0.10\n",
    "elif maas <= 45000:\n",
    "    kesintili_maas = maas - maas*0.25\n",
    "else:\n",
    "    kesintili_maas = maas - maas*0.30\n",
    "    \n",
    "kesinti = maas - kesintili_maas\n",
    "print(\"Kesinti miktarı:\", kesinti)\n",
    "print(\"Yeni maaşınız:\", kesintili_maas)"
   ]
  },
  {
   "cell_type": "markdown",
   "id": "f5fe8798",
   "metadata": {},
   "source": [
    "**Ödev-2:** Kullanıcıdan kullanıcı adı ve şifre oluşturmasını istenir. Şifrenin uzunluğu altı haneye ulaşmışsa hesabınız oluşturuldu mesajı alınır, altı haneden azsa altı haneli şifre oluşturması gerektiğinin mesajı alınır. *(Sadece koşul kullanılması yeterli.)*"
   ]
  },
  {
   "cell_type": "code",
   "execution_count": 5,
   "id": "6acffe57",
   "metadata": {},
   "outputs": [
    {
     "name": "stdin",
     "output_type": "stream",
     "text": [
      "Kullanıcı adı giriniz:  admin1\n",
      "Şifre giriniz:  sifre\n"
     ]
    }
   ],
   "source": [
    "kullanici_adi = input(\"Kullanıcı adı giriniz: \")\n",
    "sifre = input(\"Şifre giriniz: \")"
   ]
  },
  {
   "cell_type": "code",
   "execution_count": 10,
   "id": "d8b73615-02b5-4e81-8011-079a768ba440",
   "metadata": {},
   "outputs": [
    {
     "name": "stdin",
     "output_type": "stream",
     "text": [
      "Kullanıcı adı giriniz:  kullanıcı\n",
      "Şifre giriniz:  sifre\n"
     ]
    },
    {
     "name": "stdout",
     "output_type": "stream",
     "text": [
      "Şifre en az 6 karakter içermeli! Lütfen yeniden deneyin.\n"
     ]
    }
   ],
   "source": [
    "kullanici_adi = input(\"Kullanıcı adı giriniz: \")\n",
    "sifre = input(\"Şifre giriniz: \") \n",
    "\n",
    "if len(sifre) >= 6:\n",
    "    print(\"Hesabınız oluşturuldu.\")\n",
    "else:\n",
    "    print(\"Şifre en az 6 karakter içermeli! Lütfen yeniden deneyin.\")\n"
   ]
  },
  {
   "cell_type": "markdown",
   "id": "aaccf11a",
   "metadata": {},
   "source": [
    "**Ödev-3:** Bir önceki örnek geliştirilir.\n",
    "\n",
    "1. Kullanıcı girdiği şifre 5 ve 10 hane arasında olmak zorunda.\n",
    "2. Eğer bu koşula uyuyorsa \"Hesabınız oluşturuldu.\" mesajı alır.\n",
    "3. Koşulu sağlamıyorsa \"Lütfen girdiniz şifre 5 haneden az 10 haneden fazla olmasın!\" uyarısı alır.\n",
    "4. Bunu oluştururken kullanıcı istediğimiz şartlarda şifre oluşturana kadar sormaya devam eder"
   ]
  },
  {
   "cell_type": "code",
   "execution_count": 15,
   "id": "039e50dc",
   "metadata": {},
   "outputs": [
    {
     "name": "stdin",
     "output_type": "stream",
     "text": [
      "Kullanıcı adı giriniz:  kullanıcı\n",
      "Şifre giriniz:  123\n"
     ]
    },
    {
     "name": "stdout",
     "output_type": "stream",
     "text": [
      "Lütfen girdiniz şifre 5 haneden az 10 haneden fazla olmasın!\n"
     ]
    },
    {
     "name": "stdin",
     "output_type": "stream",
     "text": [
      "Şifre giriniz:  123456123456\n"
     ]
    },
    {
     "name": "stdout",
     "output_type": "stream",
     "text": [
      "Lütfen girdiniz şifre 5 haneden az 10 haneden fazla olmasın!\n"
     ]
    },
    {
     "name": "stdin",
     "output_type": "stream",
     "text": [
      "Şifre giriniz:  12345\n"
     ]
    },
    {
     "name": "stdout",
     "output_type": "stream",
     "text": [
      "Hesabınız oluşturuldu.\n"
     ]
    }
   ],
   "source": [
    "kullanici_adi = input(\"Kullanıcı adı giriniz: \")\n",
    "sifre = input(\"Şifre giriniz: \")\n",
    "\n",
    "while (len(sifre) < 5) or (len(sifre) > 10):\n",
    "    print(\"Lütfen girdiniz şifre 5 haneden az 10 haneden fazla olmasın!\")\n",
    "    sifre = input(\"Şifre giriniz: \")\n",
    "\n",
    "print(\"Hesabınız oluşturuldu.\")"
   ]
  },
  {
   "cell_type": "markdown",
   "id": "8ba81863",
   "metadata": {},
   "source": [
    "**Ödev-4:** Kullanıcıdan isim ve şifre isteyeceğiz ve şifre girişi için üç hak verilir.\n",
    "\n",
    "1. Eğer önceden tanımlı şifre ile kullanıcıdan gelen şifre aynıysa \"Giriş yapıldı.\" yazar.\n",
    "2. Şifre girişi yanlışsa \"Yanlış şifre girildi!\" uyarısı verilsin ve üç yanlış denemede program biter.\n",
    "3. Tercihe göre kalan hak bilgisi verilir."
   ]
  },
  {
   "cell_type": "code",
   "execution_count": 23,
   "id": "36b39a9e-a635-4d1f-8760-cca881f1f8d0",
   "metadata": {},
   "outputs": [
    {
     "name": "stdin",
     "output_type": "stream",
     "text": [
      "Kullanıcı adınızı giriniz:  kullanıcı\n",
      "Sifrenizi giriniz:  sifre123\n"
     ]
    },
    {
     "name": "stdout",
     "output_type": "stream",
     "text": [
      "Giriş yapıldı.\n"
     ]
    }
   ],
   "source": [
    "kalan_deneme = 3\n",
    "tanimli_kullanici = \"kullanıcı\"\n",
    "tanimli_sifre = \"sifre123\"\n",
    "\n",
    "kullanici_adi = input(\"Kullanıcı adınızı giriniz: \")\n",
    "sifre = input(\"Sifrenizi giriniz: \")\n",
    "    \n",
    "while tanimli_sifre != sifre:\n",
    "    kalan_deneme -= 1\n",
    "    print(\"Yanlış şifre girildi!\")\n",
    "    print(\"Kalan deneme hakkı: \", kalan_deneme)\n",
    "    \n",
    "    if kalan_deneme == 0:\n",
    "        print(\"Hakkınız doldu. Giriş Başarısız.\")\n",
    "        break\n",
    "\n",
    "    sifre = input(\"Sifrenizi giriniz: \")\n",
    "\n",
    "if tanimli_sifre == sifre:\n",
    "    print(\"Giriş yapıldı.\")"
   ]
  },
  {
   "cell_type": "code",
   "execution_count": 25,
   "id": "36b48853-7d1a-4f78-9098-dfc26ac4e572",
   "metadata": {},
   "outputs": [
    {
     "name": "stdin",
     "output_type": "stream",
     "text": [
      "Kullanıcı adınızı giriniz:  kullanıcı\n",
      "Sifrenizi giriniz:  123\n"
     ]
    },
    {
     "name": "stdout",
     "output_type": "stream",
     "text": [
      "Yanlış şifre girildi!\n",
      "Kalan deneme hakkı:  2\n"
     ]
    },
    {
     "name": "stdin",
     "output_type": "stream",
     "text": [
      "Sifrenizi giriniz:  sifre123\n"
     ]
    },
    {
     "name": "stdout",
     "output_type": "stream",
     "text": [
      "Giriş yapıldı.\n"
     ]
    }
   ],
   "source": [
    "kalan_deneme = 3\n",
    "tanimli_kullanici = \"kullanıcı\"\n",
    "tanimli_sifre = \"sifre123\"\n",
    "\n",
    "kullanici_adi = input(\"Kullanıcı adınızı giriniz: \")\n",
    "sifre = input(\"Sifrenizi giriniz: \")\n",
    "    \n",
    "while tanimli_sifre != sifre:\n",
    "    kalan_deneme -= 1\n",
    "    print(\"Yanlış şifre girildi!\")\n",
    "    print(\"Kalan deneme hakkı: \", kalan_deneme)\n",
    "    \n",
    "    if kalan_deneme == 0:\n",
    "        print(\"Hakkınız doldu. Giriş Başarısız.\")\n",
    "        break\n",
    "\n",
    "    sifre = input(\"Sifrenizi giriniz: \")\n",
    "\n",
    "if tanimli_sifre == sifre:\n",
    "    print(\"Giriş yapıldı.\")"
   ]
  },
  {
   "cell_type": "code",
   "execution_count": 24,
   "id": "5247d184-6f31-4a50-97cf-03b6c180750a",
   "metadata": {},
   "outputs": [
    {
     "name": "stdin",
     "output_type": "stream",
     "text": [
      "Kullanıcı adınızı giriniz:  kullanıcı\n",
      "Sifrenizi giriniz:  123\n"
     ]
    },
    {
     "name": "stdout",
     "output_type": "stream",
     "text": [
      "Yanlış şifre girildi!\n",
      "Kalan deneme hakkı:  2\n"
     ]
    },
    {
     "name": "stdin",
     "output_type": "stream",
     "text": [
      "Sifrenizi giriniz:  321\n"
     ]
    },
    {
     "name": "stdout",
     "output_type": "stream",
     "text": [
      "Yanlış şifre girildi!\n",
      "Kalan deneme hakkı:  1\n"
     ]
    },
    {
     "name": "stdin",
     "output_type": "stream",
     "text": [
      "Sifrenizi giriniz:  233\n"
     ]
    },
    {
     "name": "stdout",
     "output_type": "stream",
     "text": [
      "Yanlış şifre girildi!\n",
      "Kalan deneme hakkı:  0\n",
      "Hakkınız doldu. Giriş Başarısız.\n"
     ]
    }
   ],
   "source": [
    "kalan_deneme = 3\n",
    "tanimli_kullanici = \"kullanıcı\"\n",
    "tanimli_sifre = \"sifre123\"\n",
    "\n",
    "kullanici_adi = input(\"Kullanıcı adınızı giriniz: \")\n",
    "sifre = input(\"Sifrenizi giriniz: \")\n",
    "    \n",
    "while tanimli_sifre != sifre:\n",
    "    kalan_deneme -= 1\n",
    "    print(\"Yanlış şifre girildi!\")\n",
    "    print(\"Kalan deneme hakkı: \", kalan_deneme)\n",
    "    \n",
    "    if kalan_deneme == 0:\n",
    "        print(\"Hakkınız doldu. Giriş Başarısız.\")\n",
    "        break\n",
    "\n",
    "    sifre = input(\"Sifrenizi giriniz: \")\n",
    "\n",
    "if tanimli_sifre == sifre:\n",
    "    print(\"Giriş yapıldı.\")"
   ]
  },
  {
   "cell_type": "code",
   "execution_count": null,
   "id": "89acf490-90d3-49c4-9d30-f3a943fade51",
   "metadata": {},
   "outputs": [],
   "source": []
  }
 ],
 "metadata": {
  "kernelspec": {
   "display_name": "Python 3 (ipykernel)",
   "language": "python",
   "name": "python3"
  },
  "language_info": {
   "codemirror_mode": {
    "name": "ipython",
    "version": 3
   },
   "file_extension": ".py",
   "mimetype": "text/x-python",
   "name": "python",
   "nbconvert_exporter": "python",
   "pygments_lexer": "ipython3",
   "version": "3.12.7"
  }
 },
 "nbformat": 4,
 "nbformat_minor": 5
}
