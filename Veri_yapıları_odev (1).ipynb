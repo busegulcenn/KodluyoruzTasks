{
 "cells": [
  {
   "cell_type": "markdown",
   "id": "032d81b2",
   "metadata": {},
   "source": [
    "# 1\n",
    "x = 3 ----> floata çevirelim. Çevirdikten sonra beri tipinide yazdıralım.\n",
    "\n",
    "y = 4.5 -----> integere çevirelim. Çevirdikten sonra beri tipinide yazdıralım.\n",
    "\n",
    "z = \"8\" -----> integera çevirelim. Çevirdikten sonra beri tipinide yazdıralım.\n",
    "\n",
    "a = \"12\" -----> floata çevirelim. Çevirdikten sonra beri tipinide yazdıralım.\n",
    "\n",
    "b = \"46.8\" ------> integera çevirelim. Çevirdikten sonra beri tipinide yazdıralım."
   ]
  },
  {
   "cell_type": "code",
   "execution_count": 1,
   "id": "f1b735c0",
   "metadata": {},
   "outputs": [],
   "source": [
    "x = 3\n",
    "y = 4.5\n",
    "z = \"8\"\n",
    "a = \"12\"\n",
    "b = \"46\""
   ]
  },
  {
   "cell_type": "code",
   "execution_count": 2,
   "id": "a0862e6e-0c24-4d72-9dc5-d4580d9b17c4",
   "metadata": {},
   "outputs": [
    {
     "name": "stdout",
     "output_type": "stream",
     "text": [
      "3.0\n",
      "4\n",
      "8\n",
      "12.0\n",
      "46\n"
     ]
    }
   ],
   "source": [
    "x = float(x)\n",
    "print(x)\n",
    "\n",
    "y = int(y)\n",
    "print(y)\n",
    "\n",
    "z = int(z)\n",
    "print(z)\n",
    "\n",
    "a = float(a)\n",
    "print(a)\n",
    "\n",
    "b = int(float(b))\n",
    "print(b)"
   ]
  },
  {
   "cell_type": "markdown",
   "id": "95509718",
   "metadata": {},
   "source": [
    "# 2 \n",
    "İsimlerden oluşan üç değişkene yaş değerleri atanır. Belirlenen üç değişken birbiriyle karşılaştırma operatörleri ile karşılaştırılır. Bu karşılaştırmalara mantıksal operatörler de eklenir."
   ]
  },
  {
   "cell_type": "code",
   "execution_count": 3,
   "id": "50f77b4f",
   "metadata": {},
   "outputs": [],
   "source": [
    "Selim = 25\n",
    "Buse = 24\n",
    "Arda = 18"
   ]
  },
  {
   "cell_type": "code",
   "execution_count": 4,
   "id": "2da965bd-9ac0-4c55-a895-d085f7a5387e",
   "metadata": {},
   "outputs": [
    {
     "data": {
      "text/plain": [
       "True"
      ]
     },
     "execution_count": 4,
     "metadata": {},
     "output_type": "execute_result"
    }
   ],
   "source": [
    "Selim > Buse"
   ]
  },
  {
   "cell_type": "code",
   "execution_count": 5,
   "id": "0eff6b31-4453-4b88-b24d-24a5833df7e3",
   "metadata": {},
   "outputs": [
    {
     "data": {
      "text/plain": [
       "False"
      ]
     },
     "execution_count": 5,
     "metadata": {},
     "output_type": "execute_result"
    }
   ],
   "source": [
    "Arda > Selim"
   ]
  },
  {
   "cell_type": "code",
   "execution_count": 6,
   "id": "bac951e7-0c1d-4293-892f-889bf49d4e7e",
   "metadata": {},
   "outputs": [
    {
     "data": {
      "text/plain": [
       "False"
      ]
     },
     "execution_count": 6,
     "metadata": {},
     "output_type": "execute_result"
    }
   ],
   "source": [
    "Arda == Buse"
   ]
  },
  {
   "cell_type": "code",
   "execution_count": 7,
   "id": "9e72f971-c5eb-406e-a4bb-0545a416b9a0",
   "metadata": {},
   "outputs": [
    {
     "data": {
      "text/plain": [
       "True"
      ]
     },
     "execution_count": 7,
     "metadata": {},
     "output_type": "execute_result"
    }
   ],
   "source": [
    "(Selim > Arda) and (Buse < Selim)"
   ]
  },
  {
   "cell_type": "code",
   "execution_count": 8,
   "id": "b45188df-419a-4dfd-98c1-e310ebe88173",
   "metadata": {},
   "outputs": [
    {
     "data": {
      "text/plain": [
       "False"
      ]
     },
     "execution_count": 8,
     "metadata": {},
     "output_type": "execute_result"
    }
   ],
   "source": [
    "(Selim > Arda) and (Arda > Buse)"
   ]
  },
  {
   "cell_type": "code",
   "execution_count": 9,
   "id": "85f433ce-ea0c-4bdc-88d3-55267ef8add0",
   "metadata": {},
   "outputs": [
    {
     "data": {
      "text/plain": [
       "True"
      ]
     },
     "execution_count": 9,
     "metadata": {},
     "output_type": "execute_result"
    }
   ],
   "source": [
    "(Selim < Buse) or ( Buse < Selim )"
   ]
  },
  {
   "cell_type": "code",
   "execution_count": 10,
   "id": "d138f872-68d3-44b7-9488-bed85003378d",
   "metadata": {},
   "outputs": [
    {
     "data": {
      "text/plain": [
       "False"
      ]
     },
     "execution_count": 10,
     "metadata": {},
     "output_type": "execute_result"
    }
   ],
   "source": [
    "((Arda > Buse) or ( Selim > Buse)) and (Selim < Arda)"
   ]
  },
  {
   "cell_type": "code",
   "execution_count": 11,
   "id": "b5f64733-a1e5-4ecd-bdd8-0eeaf6ef17d5",
   "metadata": {},
   "outputs": [
    {
     "data": {
      "text/plain": [
       "True"
      ]
     },
     "execution_count": 11,
     "metadata": {},
     "output_type": "execute_result"
    }
   ],
   "source": [
    "((Arda > Buse) or ( Selim > Buse)) and (Selim > Arda)"
   ]
  },
  {
   "cell_type": "markdown",
   "id": "a1a0eb92",
   "metadata": {},
   "source": [
    "# 3\n",
    "Kullanıcıdan iki değer girmesini istenir. Girilen değerlerin toplama, çıkarma, çarpma, bölme sonuçlarını yazdırılır."
   ]
  },
  {
   "cell_type": "code",
   "execution_count": 34,
   "id": "c361e45a",
   "metadata": {},
   "outputs": [
    {
     "name": "stdin",
     "output_type": "stream",
     "text": [
      "İşlem yapılacak ilk sayıyı giriniz:  12\n"
     ]
    }
   ],
   "source": [
    "a = input(\"İşlem yapılacak ilk sayıyı giriniz: \")"
   ]
  },
  {
   "cell_type": "code",
   "execution_count": 35,
   "id": "22da75b0-1e28-4fc7-b7cb-bf67d45a88f8",
   "metadata": {},
   "outputs": [
    {
     "name": "stdin",
     "output_type": "stream",
     "text": [
      "İşlem yapılacak ikşinci sayıyı giriniz:  25\n"
     ]
    }
   ],
   "source": [
    "b = input(\"İşlem yapılacak ikşinci sayıyı giriniz: \")"
   ]
  },
  {
   "cell_type": "code",
   "execution_count": 36,
   "id": "fba0dbe5-eac9-4b2d-a599-3b38e110b237",
   "metadata": {},
   "outputs": [],
   "source": [
    "a = int(a)\n",
    "b = int(b)"
   ]
  },
  {
   "cell_type": "code",
   "execution_count": 39,
   "id": "b69f3e18-e351-4a08-badf-b7ca15fda1e1",
   "metadata": {},
   "outputs": [
    {
     "name": "stdout",
     "output_type": "stream",
     "text": [
      "a + b =  37\n",
      "a - b =  -13\n",
      "a x b =  300\n",
      "a : b =  0.48\n"
     ]
    }
   ],
   "source": [
    "print(\"a + b = \", a+b)\n",
    "print(\"a - b = \", a-b)\n",
    "print(\"a x b = \", a*b)\n",
    "print(\"a : b = \", a/b)"
   ]
  },
  {
   "cell_type": "markdown",
   "id": "060b0bea",
   "metadata": {},
   "source": [
    "# 4\n",
    "Kullanıcıdan isim, yaş, şehir ve meslek bilgilerini istenir ve cevaplarını yazdırılır."
   ]
  },
  {
   "cell_type": "code",
   "execution_count": 16,
   "id": "6f5dea59",
   "metadata": {},
   "outputs": [
    {
     "name": "stdout",
     "output_type": "stream",
     "text": [
      "Aşağıdaki bilgileri doldurunuz.\n"
     ]
    },
    {
     "name": "stdin",
     "output_type": "stream",
     "text": [
      "İsminiz ve soy isminiz:  Buse Gülçen\n",
      "Yaşadığınız şehir:  Yalova\n",
      "Meslek:  Öğrenci\n"
     ]
    }
   ],
   "source": [
    "print(\"Aşağıdaki bilgileri doldurunuz.\")\n",
    "isim_soyisim = input(\"İsminiz ve soy isminiz: \")\n",
    "sehir = input(\"Yaşadığınız şehir: \")\n",
    "meslek = input(\"Meslek: \")"
   ]
  },
  {
   "cell_type": "code",
   "execution_count": 17,
   "id": "12d06a5b-320b-420b-ab16-d278fe99273f",
   "metadata": {},
   "outputs": [
    {
     "name": "stdout",
     "output_type": "stream",
     "text": [
      "Buse Gülçen Yalova Öğrenci\n"
     ]
    }
   ],
   "source": [
    "print(isim_soyisim, sehir, meslek)"
   ]
  },
  {
   "cell_type": "markdown",
   "id": "55e1a34e",
   "metadata": {},
   "source": [
    "# 5\n",
    "\"Hi-Kod Veri Bilimi Atölyesi\" ifadesini bir değişkene tanımlanır.\n",
    "\n",
    "\n",
    " 1. İfadedeki her bir kelimeyi (\"Hi-Kod\", \"Veri\", \"Bilimi\", \"Atölyesi\") değişken içinden seçilir. \n",
    " 2. İfadeyi hepsini büyük harf olacak hale çevrilir. (\"HI-KOD VERİ BİLİMİ ATÖLYESİ\") \n",
    " 3. İfadeyi hepsini büyük harf olacak hale çevrilir.(\"hi-kod veri bilimi atölyesi\") \n",
    "\n",
    "\"0123456789\" ifadesindeki yalnızca çift sayıları ve yalnızca tek sayıları seçilir. (\"02468\", \"13579\")"
   ]
  },
  {
   "cell_type": "code",
   "execution_count": 18,
   "id": "0fc1bc40",
   "metadata": {},
   "outputs": [],
   "source": [
    "x = \"Hi-Kod Veri Bilimi Atölyesi\""
   ]
  },
  {
   "cell_type": "code",
   "execution_count": 24,
   "id": "7879c033-0030-4ad4-9548-a015b49baee7",
   "metadata": {},
   "outputs": [
    {
     "data": {
      "text/plain": [
       "'Hi-Kod'"
      ]
     },
     "execution_count": 24,
     "metadata": {},
     "output_type": "execute_result"
    }
   ],
   "source": [
    "x[:6]"
   ]
  },
  {
   "cell_type": "code",
   "execution_count": 27,
   "id": "60b8d213-412a-4bcd-aa6c-8561dc8245d6",
   "metadata": {},
   "outputs": [
    {
     "data": {
      "text/plain": [
       "'Veri'"
      ]
     },
     "execution_count": 27,
     "metadata": {},
     "output_type": "execute_result"
    }
   ],
   "source": [
    "x[7:11]"
   ]
  },
  {
   "cell_type": "code",
   "execution_count": 28,
   "id": "9b3ff337-b463-480e-aa11-6b7ed860a374",
   "metadata": {},
   "outputs": [
    {
     "data": {
      "text/plain": [
       "'Bilimi '"
      ]
     },
     "execution_count": 28,
     "metadata": {},
     "output_type": "execute_result"
    }
   ],
   "source": [
    "x[12:19]"
   ]
  },
  {
   "cell_type": "code",
   "execution_count": 30,
   "id": "b18fb054-7c7f-49a4-b993-24e4d08697ae",
   "metadata": {},
   "outputs": [
    {
     "data": {
      "text/plain": [
       "'Atölyesi'"
      ]
     },
     "execution_count": 30,
     "metadata": {},
     "output_type": "execute_result"
    }
   ],
   "source": [
    "x[19:]"
   ]
  },
  {
   "cell_type": "code",
   "execution_count": 20,
   "id": "fc7e37a3-58f5-4d77-9558-f4321da9a341",
   "metadata": {},
   "outputs": [
    {
     "data": {
      "text/plain": [
       "'HI-KOD VERI BILIMI ATÖLYESI'"
      ]
     },
     "execution_count": 20,
     "metadata": {},
     "output_type": "execute_result"
    }
   ],
   "source": [
    "x.upper()"
   ]
  },
  {
   "cell_type": "code",
   "execution_count": 21,
   "id": "018c4f05-759f-4742-bac5-b7575aefaca1",
   "metadata": {},
   "outputs": [
    {
     "data": {
      "text/plain": [
       "'hi-kod veri bilimi atölyesi'"
      ]
     },
     "execution_count": 21,
     "metadata": {},
     "output_type": "execute_result"
    }
   ],
   "source": [
    "x.lower()"
   ]
  },
  {
   "cell_type": "code",
   "execution_count": 22,
   "id": "ba4360b8-b8bf-491b-8ba0-537e501acabe",
   "metadata": {},
   "outputs": [],
   "source": [
    "a = \"0123456789\"\n",
    "cift_sayilar = []\n",
    "tek_sayilar = []"
   ]
  },
  {
   "cell_type": "code",
   "execution_count": 23,
   "id": "31d4526e-2950-4210-bcda-a272877439f2",
   "metadata": {},
   "outputs": [
    {
     "name": "stdout",
     "output_type": "stream",
     "text": [
      "['0', '2', '4', '6', '8'] ['1', '3', '5', '7', '9']\n"
     ]
    }
   ],
   "source": [
    "for i in a:\n",
    "    if int(i) % 2 == 0:\n",
    "        cift_sayilar.append(i)\n",
    "\n",
    "    else:\n",
    "        tek_sayilar.append(i)\n",
    "\n",
    "print(cift_sayilar, tek_sayilar)"
   ]
  },
  {
   "cell_type": "code",
   "execution_count": null,
   "id": "ef9e588c-da2f-41e5-a784-495a958ddf98",
   "metadata": {},
   "outputs": [],
   "source": []
  },
  {
   "cell_type": "code",
   "execution_count": null,
   "id": "917376a9-e23e-4b5c-b5e7-bfabdb420e81",
   "metadata": {},
   "outputs": [],
   "source": []
  }
 ],
 "metadata": {
  "kernelspec": {
   "display_name": "Python 3 (ipykernel)",
   "language": "python",
   "name": "python3"
  },
  "language_info": {
   "codemirror_mode": {
    "name": "ipython",
    "version": 3
   },
   "file_extension": ".py",
   "mimetype": "text/x-python",
   "name": "python",
   "nbconvert_exporter": "python",
   "pygments_lexer": "ipython3",
   "version": "3.12.7"
  }
 },
 "nbformat": 4,
 "nbformat_minor": 5
}
